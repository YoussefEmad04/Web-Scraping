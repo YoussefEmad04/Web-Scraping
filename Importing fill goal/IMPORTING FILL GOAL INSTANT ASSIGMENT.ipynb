{
 "cells": [
  {
   "cell_type": "code",
   "execution_count": null,
   "id": "78bd19be",
   "metadata": {},
   "outputs": [],
   "source": [
    "\n"
   ]
  },
  {
   "cell_type": "code",
   "execution_count": null,
   "id": "3913b7bf",
   "metadata": {
    "is_executing": true
   },
   "outputs": [],
   "source": [
    "import requests\n",
    "from bs4 import BeautifulSoup\n",
    "import pandas as pd \n",
    "import re\n",
    "\n",
    "date = input('Please Enter a date in the following format yyyy-mm-dd: ').strip()\n",
    "page = requests.get(f'https://www.filgoal.com/matches/?date={date}', verify=True) \n",
    "source = page.content\n",
    "soup = BeautifulSoup(source, 'lxml')\n",
    "\n",
    "# Championship Name\n",
    "new_list = [tag.a.get('href') for tag in soup.find_all('div', 'm')]\n",
    "champion_name = [list[list.find(\"في\")+2:].replace('-', ' ').strip() for list in new_list]\n",
    "\n",
    "# Teams\n",
    "Team_A = [i.get_text().strip() for i in soup.select('.f strong')]\n",
    "Team_B = [i.get_text().strip() for i in soup.select('.s strong')]\n",
    "\n",
    "# Time of the Match\n",
    "Time_of_match = [i.get_text().strip() for i in soup.select('.match-aux span')]\n",
    "pattern = re.compile(r'\\d{2}-\\d{2}-\\d{4} - \\d{2}:\\d{2}')\n",
    "Date_Time_Match = [match.group() for item in Time_of_match for match in [re.search(r'\\d{2}-\\d{2}-\\d{4} - \\d{2}:\\d{2}', item)] if match]\n",
    "\n",
    "# Results\n",
    "Team_A_Result = [i.get_text().strip() for i in soup.select('.f b')]\n",
    "Team_B_Result = [i.get_text().strip() for i in soup.select('.s b')]\n",
    "\n",
    "match_details = pd.DataFrame({\n",
    "    'البطولة': champion_name,\n",
    "    'الفريق الأول': Team_A,\n",
    "    'الفريق التانى': Team_B,\n",
    "    'ميعاد المباراة': Date_Time_Match,\n",
    "    'نتيجة المباراة': [f'{i}-{x}'.strip() for i, x in zip(Team_A_Result, Team_B_Result)]\n",
    "})\n",
    "\n",
    "match_details\n"
   ]
  },
  {
   "cell_type": "code",
   "execution_count": null,
   "id": "5e55666b",
   "metadata": {
    "is_executing": true
   },
   "outputs": [],
   "source": []
  },
  {
   "cell_type": "code",
   "execution_count": null,
   "outputs": [],
   "source": [],
   "metadata": {
    "collapsed": false
   },
   "id": "51896d2a35ddd7d0"
  }
 ],
 "metadata": {
  "kernelspec": {
   "display_name": "Python 3 (ipykernel)",
   "language": "python",
   "name": "python3"
  },
  "language_info": {
   "codemirror_mode": {
    "name": "ipython",
    "version": 3
   },
   "file_extension": ".py",
   "mimetype": "text/x-python",
   "name": "python",
   "nbconvert_exporter": "python",
   "pygments_lexer": "ipython3",
   "version": "3.11.5"
  }
 },
 "nbformat": 4,
 "nbformat_minor": 5
}
